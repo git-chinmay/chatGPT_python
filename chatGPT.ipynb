{
 "cells": [
  {
   "cell_type": "code",
   "execution_count": 1,
   "metadata": {},
   "outputs": [
    {
     "name": "stdout",
     "output_type": "stream",
     "text": [
      "Note: you may need to restart the kernel to use updated packages.\n"
     ]
    }
   ],
   "source": [
    "#%pip install -q pyChatGPT"
   ]
  },
  {
   "cell_type": "code",
   "execution_count": 1,
   "metadata": {},
   "outputs": [],
   "source": [
    "from pyChatGPT import ChatGPT"
   ]
  },
  {
   "cell_type": "code",
   "execution_count": 2,
   "metadata": {},
   "outputs": [],
   "source": [
    "session_token = \"YOUR SESSION TOKEN\""
   ]
  },
  {
   "cell_type": "code",
   "execution_count": 3,
   "metadata": {},
   "outputs": [],
   "source": [
    "api = ChatGPT(session_token)"
   ]
  },
  {
   "cell_type": "code",
   "execution_count": 4,
   "metadata": {},
   "outputs": [],
   "source": [
    "response = api.send_message(\"What is humanity?\")"
   ]
  },
  {
   "cell_type": "code",
   "execution_count": 5,
   "metadata": {},
   "outputs": [],
   "source": [
    "from pprint import pprint"
   ]
  },
  {
   "cell_type": "code",
   "execution_count": 6,
   "metadata": {},
   "outputs": [
    {
     "name": "stdout",
     "output_type": "stream",
     "text": [
      "('Humanity is the human race, which includes all people. It is often used to '\n",
      " 'refer to the qualities that make us human, such as compassion, kindness, and '\n",
      " 'empathy. These qualities are what make us able to connect with each other '\n",
      " 'and form societies.')\n"
     ]
    }
   ],
   "source": [
    "pprint(response['message'])"
   ]
  },
  {
   "cell_type": "code",
   "execution_count": 15,
   "metadata": {},
   "outputs": [],
   "source": [
    "response = api.send_message(\"write a program in java to calculate average of the input array of numbers.\")"
   ]
  },
  {
   "cell_type": "code",
   "execution_count": 16,
   "metadata": {},
   "outputs": [
    {
     "name": "stdout",
     "output_type": "stream",
     "text": [
      "('Here is a simple program in Java that will calculate the average of an array '\n",
      " 'of numbers:\\n'\n",
      " '\\n'\n",
      " '```\\n'\n",
      " 'public class Average {\\n'\n",
      " '  public static void main(String[] args) {\\n'\n",
      " '    // Define an array of numbers\\n'\n",
      " '    int[] numbers = {1, 2, 3, 4, 5};\\n'\n",
      " '\\n'\n",
      " '    // Calculate the average of the numbers\\n'\n",
      " '    double avg = 0;\\n'\n",
      " '    for (int i = 0; i < numbers.length; i++) {\\n'\n",
      " '      avg += numbers[i];\\n'\n",
      " '    }\\n'\n",
      " '    avg /= numbers.length;\\n'\n",
      " '\\n'\n",
      " '    // Print the result\\n'\n",
      " '    System.out.println(\"The average of the numbers is \" + avg);\\n'\n",
      " '  }\\n'\n",
      " '}\\n'\n",
      " '```\\n'\n",
      " '\\n'\n",
      " 'To run this program, you will need to have Java installed on your computer. '\n",
      " 'You can then save the code to a file with a `.java` extension, compile it '\n",
      " 'using the `javac` command, and run it using the `java` command. For example, '\n",
      " 'if you save the code to a file called `Average.java`, you can compile and '\n",
      " 'run it like this:\\n'\n",
      " '\\n'\n",
      " '```\\n'\n",
      " 'javac Average.java\\n'\n",
      " 'java Average\\n'\n",
      " '```\\n'\n",
      " '\\n'\n",
      " 'This will compile the code in the `Average.java` file, create a '\n",
      " '`Average.class` file, and then run the program. It will calculate the '\n",
      " 'average of the array of numbers and print the result to the screen.')\n"
     ]
    }
   ],
   "source": [
    "pprint(response['message'])"
   ]
  },
  {
   "cell_type": "code",
   "execution_count": 19,
   "metadata": {},
   "outputs": [
    {
     "name": "stdout",
     "output_type": "stream",
     "text": [
      "('Here is a simple recipe for making prawn biriyani:\\n'\n",
      " '\\n'\n",
      " 'Ingredients:\\n'\n",
      " '- 1 cup basmati rice\\n'\n",
      " '- 1 tablespoon vegetable oil\\n'\n",
      " '- 1 onion, sliced\\n'\n",
      " '- 1 cup prawns\\n'\n",
      " '- 1 teaspoon ginger paste\\n'\n",
      " '- 1 teaspoon garlic paste\\n'\n",
      " '- 1 teaspoon chili powder\\n'\n",
      " '- 1 teaspoon turmeric powder\\n'\n",
      " '- 1 teaspoon garam masala\\n'\n",
      " '- 1 cup water\\n'\n",
      " '- Salt to taste\\n'\n",
      " '- 1 tablespoon chopped cilantro\\n'\n",
      " '\\n'\n",
      " 'Instructions:\\n'\n",
      " '\\n'\n",
      " '1. Rinse the basmati rice until the water runs clear, then soak it in water '\n",
      " 'for 20 minutes.\\n'\n",
      " '2. Heat the vegetable oil in a large pan over medium heat. Add the sliced '\n",
      " 'onion and sauté until it is softened and golden brown.\\n'\n",
      " '3. Add the prawns, ginger paste, garlic paste, chili powder, turmeric '\n",
      " 'powder, and garam masala to the pan and cook for 5 minutes, stirring '\n",
      " 'occasionally.\\n'\n",
      " '4. Drain the soaked rice and add it to the pan. Stir to combine with the '\n",
      " 'prawns and spices.\\n'\n",
      " '5. Add the water and salt to the pan and bring to a boil. Reduce the heat to '\n",
      " 'low and cover the pan with a lid. Cook for 15-20 minutes, or until the rice '\n",
      " 'is cooked and the water has been absorbed.\\n'\n",
      " '6. Sprinkle the chopped cilantro on top of the biriyani and serve hot.\\n'\n",
      " '\\n'\n",
      " 'You can adjust the amount and types of spices used in the recipe to suit '\n",
      " 'your personal taste. You can also use other types of seafood, such as '\n",
      " 'chicken or fish, instead of prawns if you prefer.')\n"
     ]
    }
   ],
   "source": [
    "response = api.send_message(\"How to make prawn biriyani?\")\n",
    "pprint(response['message'])"
   ]
  }
 ],
 "metadata": {
  "kernelspec": {
   "display_name": "Python 3.10.6 ('gptenv': venv)",
   "language": "python",
   "name": "python3"
  },
  "language_info": {
   "codemirror_mode": {
    "name": "ipython",
    "version": 3
   },
   "file_extension": ".py",
   "mimetype": "text/x-python",
   "name": "python",
   "nbconvert_exporter": "python",
   "pygments_lexer": "ipython3",
   "version": "3.10.6"
  },
  "orig_nbformat": 4,
  "vscode": {
   "interpreter": {
    "hash": "a87cd3e92ea4963b892abd7c74e1b5b193455627e86a781d66562f06b6f5d48c"
   }
  }
 },
 "nbformat": 4,
 "nbformat_minor": 2
}
